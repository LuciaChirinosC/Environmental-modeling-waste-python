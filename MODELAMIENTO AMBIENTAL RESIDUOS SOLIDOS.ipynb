{
 "cells": [
  {
   "cell_type": "markdown",
   "id": "fbc0ab37",
   "metadata": {},
   "source": [
    "OPTIMIZACION DE LA GESTION DE RESIDUOS EN UNA PLANTA INDUSTRIAL MEDIANTE EL MODELAMIENTO AMBIENTAL EN PYTHON\n",
    "\n",
    "PLANTEAMIENTO DEL PROBLEMA\n",
    "\n",
    "Actualmente, la gestión de residuos sólidos en la empresa la cual presenta desafíos relacionados con la categorización, cuantificación y optimización de su manejo. No existe un modelo automatizado que permita predecir tendencias en la generación de residuos, evaluar la eficiencia en su disposición o sugerir estrategias para mejorar la tasa de reciclaje y minimizar costos.\n",
    "\n",
    "OBJETIVO GENERAL\n",
    "\n",
    "Desarrollar un modelo basado en Python que analice y optimice la gestión de residuos sólidos en la empresa industrial, proporcionando información útil para la toma de decisiones en términos de reducción, reciclaje y cumplimiento normativo.\n",
    "\n",
    "OBJETIVOS ESPECIFICOS\n",
    "1. Analizar la distribución de los residuos generados por tipo (peligroso y no peligroso) y sede.\n",
    "\n",
    "2. Desarrollar modelos predictivos para estimar la generación futura de residuos y tendencias estacionales.\n",
    "\n",
    "3. Optimizar la gestión de residuos considerando métricas como tasa de desviación y reciclabilidad.\n",
    "\n",
    "4. Automatizar reportes sobre la generación de residuos y su impacto ambiental.\n",
    "\n",
    "METODOLOGIA\n",
    "\n",
    "El proyecto se dividirá en las siguientes fases:\n",
    "\n",
    "1. Exploración y Limpieza de Datos\n",
    "\n",
    "    Carga de la base de datos en Python (usando Pandas).\n",
    "    Manejo de valores nulos o inconsistentes.\n",
    "    Conversión de formatos de fechas y unidades.\n",
    "    Exploración de datos para obtener insights iniciales.\n",
    "\n",
    "2. Análisis Exploratorio\n",
    "\n",
    "    Análisis de tendencias anuales y estacionales en la generación de residuos.\n",
    "    Identificación de patrones en las diferentes sedes y tipos de residuos.\n",
    "    Visualización de datos con gráficos en Matplotlib y Seaborn.\n",
    "\n",
    "3. Modelado Predictivo\n",
    "\n",
    "    Aplicación de modelos de series temporales (ARIMA, Prophet o modelos de regresión) para predecir la generación de residuos.\n",
    "    Evaluación de los modelos y selección del más preciso.\n",
    "\n",
    "4. Optimización de Gestión de Residuos\n",
    "    \n",
    "    Cálculo de residuos generados: Calcular residuos peligrosos y no peligrosos generados.\n",
    "    Tasa de desviación de residuos: Analizar residuos no peligrosos desviados o gestionados de forma diferente.\n",
    "    Estrategias de reducción: Buscar formas de reducir residuos peligrosos y optimizar la disposición final en el relleno \n",
    "\n",
    "5. Implementación y Simulación\n",
    "\n",
    "   Crear un script para calcular la generación de residuos y simular escenarios de reducción de residuos peligrosos.\n",
    "   \n",
    "6. Documentación y Entregables\n",
    "\n",
    "    Documentar los pasos y generar reportes sobre las estrategias para mejorar la gestión de residuos..\n",
    "    \n",
    "HERRAMIENTAS Y TECNOLOGIAS\n",
    "    Python (Pandas, NumPy, Matplotlib, Seaborn, Scikit-learn, Statsmodels, Prophet)\n",
    "    Jupyter Notebook para desarrollo\n",
    "    Excel (Fuente de datos)\n"
   ]
  },
  {
   "cell_type": "markdown",
   "id": "8e2f2700",
   "metadata": {},
   "source": [
    "1.LIMPIEZA DE DATOS"
   ]
  },
  {
   "cell_type": "code",
   "execution_count": 1,
   "id": "2751239c",
   "metadata": {},
   "outputs": [
    {
     "data": {
      "text/html": [
       "<div>\n",
       "<style scoped>\n",
       "    .dataframe tbody tr th:only-of-type {\n",
       "        vertical-align: middle;\n",
       "    }\n",
       "\n",
       "    .dataframe tbody tr th {\n",
       "        vertical-align: top;\n",
       "    }\n",
       "\n",
       "    .dataframe thead th {\n",
       "        text-align: right;\n",
       "    }\n",
       "</style>\n",
       "<table border=\"1\" class=\"dataframe\">\n",
       "  <thead>\n",
       "    <tr style=\"text-align: right;\">\n",
       "      <th></th>\n",
       "      <th>Fecha de servicio</th>\n",
       "      <th>Tipo de Residuo</th>\n",
       "      <th>DESCRIPCIÓN DE ARTICULO</th>\n",
       "      <th>CANTIDAD</th>\n",
       "      <th>UM</th>\n",
       "      <th>Local</th>\n",
       "      <th>Unnamed: 6</th>\n",
       "      <th>Unnamed: 7</th>\n",
       "      <th>Unnamed: 8</th>\n",
       "      <th>Unnamed: 9</th>\n",
       "      <th>...</th>\n",
       "      <th>Unnamed: 16349</th>\n",
       "      <th>Unnamed: 16350</th>\n",
       "      <th>Unnamed: 16351</th>\n",
       "      <th>Unnamed: 16352</th>\n",
       "      <th>Unnamed: 16353</th>\n",
       "      <th>Unnamed: 16354</th>\n",
       "      <th>Unnamed: 16355</th>\n",
       "      <th>Unnamed: 16356</th>\n",
       "      <th>Unnamed: 16357</th>\n",
       "      <th>Unnamed: 16358</th>\n",
       "    </tr>\n",
       "  </thead>\n",
       "  <tbody>\n",
       "    <tr>\n",
       "      <th>0</th>\n",
       "      <td>2007-04-11</td>\n",
       "      <td>PELIGROSO</td>\n",
       "      <td>FLUORESCENTES USADOS</td>\n",
       "      <td>0.240</td>\n",
       "      <td>TM</td>\n",
       "      <td>SANTA ANITA</td>\n",
       "      <td>NaN</td>\n",
       "      <td>NaN</td>\n",
       "      <td>NaN</td>\n",
       "      <td>NaN</td>\n",
       "      <td>...</td>\n",
       "      <td>NaN</td>\n",
       "      <td>NaN</td>\n",
       "      <td>NaN</td>\n",
       "      <td>NaN</td>\n",
       "      <td>NaN</td>\n",
       "      <td>NaN</td>\n",
       "      <td>NaN</td>\n",
       "      <td>NaN</td>\n",
       "      <td>NaN</td>\n",
       "      <td>NaT</td>\n",
       "    </tr>\n",
       "    <tr>\n",
       "      <th>1</th>\n",
       "      <td>2008-12-18</td>\n",
       "      <td>PELIGROSO</td>\n",
       "      <td>BATERÍAS EN DESUSO</td>\n",
       "      <td>0.180</td>\n",
       "      <td>TM</td>\n",
       "      <td>SANTA ANITA</td>\n",
       "      <td>NaN</td>\n",
       "      <td>NaN</td>\n",
       "      <td>NaN</td>\n",
       "      <td>NaN</td>\n",
       "      <td>...</td>\n",
       "      <td>NaN</td>\n",
       "      <td>NaN</td>\n",
       "      <td>NaN</td>\n",
       "      <td>NaN</td>\n",
       "      <td>NaN</td>\n",
       "      <td>NaN</td>\n",
       "      <td>NaN</td>\n",
       "      <td>NaN</td>\n",
       "      <td>NaN</td>\n",
       "      <td>NaT</td>\n",
       "    </tr>\n",
       "    <tr>\n",
       "      <th>2</th>\n",
       "      <td>2008-12-18</td>\n",
       "      <td>PELIGROSO</td>\n",
       "      <td>ACEITE LUBRICANTE USADO</td>\n",
       "      <td>0.164</td>\n",
       "      <td>TM</td>\n",
       "      <td>SANTA ANITA</td>\n",
       "      <td>NaN</td>\n",
       "      <td>NaN</td>\n",
       "      <td>NaN</td>\n",
       "      <td>NaN</td>\n",
       "      <td>...</td>\n",
       "      <td>NaN</td>\n",
       "      <td>NaN</td>\n",
       "      <td>NaN</td>\n",
       "      <td>NaN</td>\n",
       "      <td>NaN</td>\n",
       "      <td>NaN</td>\n",
       "      <td>NaN</td>\n",
       "      <td>NaN</td>\n",
       "      <td>NaN</td>\n",
       "      <td>NaT</td>\n",
       "    </tr>\n",
       "    <tr>\n",
       "      <th>3</th>\n",
       "      <td>2009-12-14</td>\n",
       "      <td>PELIGROSO</td>\n",
       "      <td>ACEITE LUBRICANTE USADO</td>\n",
       "      <td>0.694</td>\n",
       "      <td>TM</td>\n",
       "      <td>SANTA ANITA</td>\n",
       "      <td>NaN</td>\n",
       "      <td>NaN</td>\n",
       "      <td>NaN</td>\n",
       "      <td>NaN</td>\n",
       "      <td>...</td>\n",
       "      <td>NaN</td>\n",
       "      <td>NaN</td>\n",
       "      <td>NaN</td>\n",
       "      <td>NaN</td>\n",
       "      <td>NaN</td>\n",
       "      <td>NaN</td>\n",
       "      <td>NaN</td>\n",
       "      <td>NaN</td>\n",
       "      <td>NaN</td>\n",
       "      <td>NaT</td>\n",
       "    </tr>\n",
       "    <tr>\n",
       "      <th>4</th>\n",
       "      <td>2010-12-01</td>\n",
       "      <td>PELIGROSO</td>\n",
       "      <td>ACEITE LUBRICANTE USADO</td>\n",
       "      <td>2.448</td>\n",
       "      <td>TM</td>\n",
       "      <td>SANTA ANITA</td>\n",
       "      <td>NaN</td>\n",
       "      <td>NaN</td>\n",
       "      <td>NaN</td>\n",
       "      <td>NaN</td>\n",
       "      <td>...</td>\n",
       "      <td>NaN</td>\n",
       "      <td>NaN</td>\n",
       "      <td>NaN</td>\n",
       "      <td>NaN</td>\n",
       "      <td>NaN</td>\n",
       "      <td>NaN</td>\n",
       "      <td>NaN</td>\n",
       "      <td>NaN</td>\n",
       "      <td>NaN</td>\n",
       "      <td>NaT</td>\n",
       "    </tr>\n",
       "  </tbody>\n",
       "</table>\n",
       "<p>5 rows × 16359 columns</p>\n",
       "</div>"
      ],
      "text/plain": [
       "  Fecha de servicio Tipo de Residuo  DESCRIPCIÓN DE ARTICULO  CANTIDAD  UM  \\\n",
       "0        2007-04-11       PELIGROSO     FLUORESCENTES USADOS     0.240  TM   \n",
       "1        2008-12-18       PELIGROSO       BATERÍAS EN DESUSO     0.180  TM   \n",
       "2        2008-12-18       PELIGROSO  ACEITE LUBRICANTE USADO     0.164  TM   \n",
       "3        2009-12-14       PELIGROSO  ACEITE LUBRICANTE USADO     0.694  TM   \n",
       "4        2010-12-01       PELIGROSO  ACEITE LUBRICANTE USADO     2.448  TM   \n",
       "\n",
       "         Local  Unnamed: 6  Unnamed: 7  Unnamed: 8  Unnamed: 9  ...  \\\n",
       "0  SANTA ANITA         NaN         NaN         NaN         NaN  ...   \n",
       "1  SANTA ANITA         NaN         NaN         NaN         NaN  ...   \n",
       "2  SANTA ANITA         NaN         NaN         NaN         NaN  ...   \n",
       "3  SANTA ANITA         NaN         NaN         NaN         NaN  ...   \n",
       "4  SANTA ANITA         NaN         NaN         NaN         NaN  ...   \n",
       "\n",
       "   Unnamed: 16349  Unnamed: 16350  Unnamed: 16351  Unnamed: 16352  \\\n",
       "0             NaN             NaN             NaN             NaN   \n",
       "1             NaN             NaN             NaN             NaN   \n",
       "2             NaN             NaN             NaN             NaN   \n",
       "3             NaN             NaN             NaN             NaN   \n",
       "4             NaN             NaN             NaN             NaN   \n",
       "\n",
       "   Unnamed: 16353  Unnamed: 16354  Unnamed: 16355  Unnamed: 16356  \\\n",
       "0             NaN             NaN             NaN             NaN   \n",
       "1             NaN             NaN             NaN             NaN   \n",
       "2             NaN             NaN             NaN             NaN   \n",
       "3             NaN             NaN             NaN             NaN   \n",
       "4             NaN             NaN             NaN             NaN   \n",
       "\n",
       "   Unnamed: 16357  Unnamed: 16358  \n",
       "0             NaN             NaT  \n",
       "1             NaN             NaT  \n",
       "2             NaN             NaT  \n",
       "3             NaN             NaT  \n",
       "4             NaN             NaT  \n",
       "\n",
       "[5 rows x 16359 columns]"
      ]
     },
     "metadata": {},
     "output_type": "display_data"
    },
    {
     "name": "stdout",
     "output_type": "stream",
     "text": [
      "<class 'pandas.core.frame.DataFrame'>\n",
      "RangeIndex: 997 entries, 0 to 996\n",
      "Columns: 16359 entries, Fecha de servicio to Unnamed: 16358\n",
      "dtypes: datetime64[ns](2), float64(16353), object(4)\n",
      "memory usage: 124.4+ MB\n"
     ]
    },
    {
     "data": {
      "text/plain": [
       "None"
      ]
     },
     "metadata": {},
     "output_type": "display_data"
    }
   ],
   "source": [
    "import pandas as pd\n",
    "import numpy as np\n",
    "import matplotlib.pyplot as plt\n",
    "import seaborn as sns\n",
    "\n",
    "# Cargar el archivo Excel\n",
    "df = pd.read_excel(\"residuos.xlsx\")\n",
    " # Mostrar las primeras filas para revisar la estructura inicial\n",
    "display(df.head())\n",
    "display(df.info())\n",
    "\n"
   ]
  },
  {
   "cell_type": "code",
   "execution_count": 2,
   "id": "1556acb8",
   "metadata": {},
   "outputs": [
    {
     "data": {
      "text/html": [
       "<div>\n",
       "<style scoped>\n",
       "    .dataframe tbody tr th:only-of-type {\n",
       "        vertical-align: middle;\n",
       "    }\n",
       "\n",
       "    .dataframe tbody tr th {\n",
       "        vertical-align: top;\n",
       "    }\n",
       "\n",
       "    .dataframe thead th {\n",
       "        text-align: right;\n",
       "    }\n",
       "</style>\n",
       "<table border=\"1\" class=\"dataframe\">\n",
       "  <thead>\n",
       "    <tr style=\"text-align: right;\">\n",
       "      <th></th>\n",
       "      <th>fecha_servicio</th>\n",
       "      <th>tipo_residuo</th>\n",
       "      <th>nombre_residuo</th>\n",
       "      <th>cantidad_tn</th>\n",
       "      <th>UM</th>\n",
       "      <th>sede</th>\n",
       "    </tr>\n",
       "  </thead>\n",
       "  <tbody>\n",
       "    <tr>\n",
       "      <th>0</th>\n",
       "      <td>2007-04-11</td>\n",
       "      <td>PELIGROSO</td>\n",
       "      <td>FLUORESCENTES USADOS</td>\n",
       "      <td>0.240</td>\n",
       "      <td>TM</td>\n",
       "      <td>SANTA ANITA</td>\n",
       "    </tr>\n",
       "    <tr>\n",
       "      <th>1</th>\n",
       "      <td>2008-12-18</td>\n",
       "      <td>PELIGROSO</td>\n",
       "      <td>BATERÍAS EN DESUSO</td>\n",
       "      <td>0.180</td>\n",
       "      <td>TM</td>\n",
       "      <td>SANTA ANITA</td>\n",
       "    </tr>\n",
       "    <tr>\n",
       "      <th>2</th>\n",
       "      <td>2008-12-18</td>\n",
       "      <td>PELIGROSO</td>\n",
       "      <td>ACEITE LUBRICANTE USADO</td>\n",
       "      <td>0.164</td>\n",
       "      <td>TM</td>\n",
       "      <td>SANTA ANITA</td>\n",
       "    </tr>\n",
       "    <tr>\n",
       "      <th>3</th>\n",
       "      <td>2009-12-14</td>\n",
       "      <td>PELIGROSO</td>\n",
       "      <td>ACEITE LUBRICANTE USADO</td>\n",
       "      <td>0.694</td>\n",
       "      <td>TM</td>\n",
       "      <td>SANTA ANITA</td>\n",
       "    </tr>\n",
       "    <tr>\n",
       "      <th>4</th>\n",
       "      <td>2010-12-01</td>\n",
       "      <td>PELIGROSO</td>\n",
       "      <td>ACEITE LUBRICANTE USADO</td>\n",
       "      <td>2.448</td>\n",
       "      <td>TM</td>\n",
       "      <td>SANTA ANITA</td>\n",
       "    </tr>\n",
       "  </tbody>\n",
       "</table>\n",
       "</div>"
      ],
      "text/plain": [
       "  fecha_servicio tipo_residuo           nombre_residuo  cantidad_tn  UM  \\\n",
       "0     2007-04-11    PELIGROSO     FLUORESCENTES USADOS        0.240  TM   \n",
       "1     2008-12-18    PELIGROSO       BATERÍAS EN DESUSO        0.180  TM   \n",
       "2     2008-12-18    PELIGROSO  ACEITE LUBRICANTE USADO        0.164  TM   \n",
       "3     2009-12-14    PELIGROSO  ACEITE LUBRICANTE USADO        0.694  TM   \n",
       "4     2010-12-01    PELIGROSO  ACEITE LUBRICANTE USADO        2.448  TM   \n",
       "\n",
       "          sede  \n",
       "0  SANTA ANITA  \n",
       "1  SANTA ANITA  \n",
       "2  SANTA ANITA  \n",
       "3  SANTA ANITA  \n",
       "4  SANTA ANITA  "
      ]
     },
     "execution_count": 2,
     "metadata": {},
     "output_type": "execute_result"
    }
   ],
   "source": [
    "# Renombrare las columnas para poder trabajar mejor\n",
    "df.rename(columns={\n",
    "    \"Fecha de servicio\": \"fecha_servicio\",\n",
    "    \"Tipo de Residuo\": \"tipo_residuo\",\n",
    "    \"DESCRIPCIÓN DE ARTICULO\": \"nombre_residuo\",\n",
    "    \"CANTIDAD\": \"cantidad_tn\",\n",
    "    \"Local\": \"sede\"\n",
    "}, inplace=True)\n",
    "\n",
    "# Eliminar columnas cuyo nombre contenga 'Unnamed' o que tengan valores nulos (o 'nat')\n",
    "df = df.loc[:, ~df.columns.str.contains('^Unnamed') & (df.isnull().sum() != df.shape[0])]\n",
    "df.head()\n"
   ]
  },
  {
   "cell_type": "code",
   "execution_count": 3,
   "id": "8df85d2a",
   "metadata": {},
   "outputs": [
    {
     "data": {
      "text/html": [
       "<div>\n",
       "<style scoped>\n",
       "    .dataframe tbody tr th:only-of-type {\n",
       "        vertical-align: middle;\n",
       "    }\n",
       "\n",
       "    .dataframe tbody tr th {\n",
       "        vertical-align: top;\n",
       "    }\n",
       "\n",
       "    .dataframe thead th {\n",
       "        text-align: right;\n",
       "    }\n",
       "</style>\n",
       "<table border=\"1\" class=\"dataframe\">\n",
       "  <thead>\n",
       "    <tr style=\"text-align: right;\">\n",
       "      <th></th>\n",
       "      <th>fecha_servicio</th>\n",
       "      <th>tipo_residuo</th>\n",
       "      <th>nombre_residuo</th>\n",
       "      <th>cantidad_tn</th>\n",
       "      <th>sede</th>\n",
       "    </tr>\n",
       "  </thead>\n",
       "  <tbody>\n",
       "    <tr>\n",
       "      <th>0</th>\n",
       "      <td>2007-04-11</td>\n",
       "      <td>PELIGROSO</td>\n",
       "      <td>FLUORESCENTES USADOS</td>\n",
       "      <td>0.240</td>\n",
       "      <td>SANTA ANITA</td>\n",
       "    </tr>\n",
       "    <tr>\n",
       "      <th>1</th>\n",
       "      <td>2008-12-18</td>\n",
       "      <td>PELIGROSO</td>\n",
       "      <td>BATERÍAS EN DESUSO</td>\n",
       "      <td>0.180</td>\n",
       "      <td>SANTA ANITA</td>\n",
       "    </tr>\n",
       "    <tr>\n",
       "      <th>2</th>\n",
       "      <td>2008-12-18</td>\n",
       "      <td>PELIGROSO</td>\n",
       "      <td>ACEITE LUBRICANTE USADO</td>\n",
       "      <td>0.164</td>\n",
       "      <td>SANTA ANITA</td>\n",
       "    </tr>\n",
       "    <tr>\n",
       "      <th>3</th>\n",
       "      <td>2009-12-14</td>\n",
       "      <td>PELIGROSO</td>\n",
       "      <td>ACEITE LUBRICANTE USADO</td>\n",
       "      <td>0.694</td>\n",
       "      <td>SANTA ANITA</td>\n",
       "    </tr>\n",
       "    <tr>\n",
       "      <th>4</th>\n",
       "      <td>2010-12-01</td>\n",
       "      <td>PELIGROSO</td>\n",
       "      <td>ACEITE LUBRICANTE USADO</td>\n",
       "      <td>2.448</td>\n",
       "      <td>SANTA ANITA</td>\n",
       "    </tr>\n",
       "  </tbody>\n",
       "</table>\n",
       "</div>"
      ],
      "text/plain": [
       "  fecha_servicio tipo_residuo           nombre_residuo  cantidad_tn  \\\n",
       "0     2007-04-11    PELIGROSO     FLUORESCENTES USADOS        0.240   \n",
       "1     2008-12-18    PELIGROSO       BATERÍAS EN DESUSO        0.180   \n",
       "2     2008-12-18    PELIGROSO  ACEITE LUBRICANTE USADO        0.164   \n",
       "3     2009-12-14    PELIGROSO  ACEITE LUBRICANTE USADO        0.694   \n",
       "4     2010-12-01    PELIGROSO  ACEITE LUBRICANTE USADO        2.448   \n",
       "\n",
       "          sede  \n",
       "0  SANTA ANITA  \n",
       "1  SANTA ANITA  \n",
       "2  SANTA ANITA  \n",
       "3  SANTA ANITA  \n",
       "4  SANTA ANITA  "
      ]
     },
     "execution_count": 3,
     "metadata": {},
     "output_type": "execute_result"
    }
   ],
   "source": [
    "# Eliminar la columna 'UM' ya que ya indique que la cantidad de los residuos estan en toneladas\n",
    "df = df.drop(columns=['UM'])\n",
    "df.head()"
   ]
  },
  {
   "cell_type": "code",
   "execution_count": 4,
   "id": "e4574f98",
   "metadata": {},
   "outputs": [
    {
     "name": "stdout",
     "output_type": "stream",
     "text": [
      "<class 'pandas.core.frame.DataFrame'>\n",
      "RangeIndex: 997 entries, 0 to 996\n",
      "Data columns (total 5 columns):\n",
      " #   Column          Non-Null Count  Dtype         \n",
      "---  ------          --------------  -----         \n",
      " 0   fecha_servicio  997 non-null    datetime64[ns]\n",
      " 1   tipo_residuo    997 non-null    object        \n",
      " 2   nombre_residuo  997 non-null    object        \n",
      " 3   cantidad_tn     997 non-null    float64       \n",
      " 4   sede            997 non-null    object        \n",
      "dtypes: datetime64[ns](1), float64(1), object(3)\n",
      "memory usage: 39.1+ KB\n"
     ]
    }
   ],
   "source": [
    "# Convertir la columna de fecha al formato adecuado\n",
    "df[\"fecha_servicio\"] = pd.to_datetime(df[\"fecha_servicio\"], errors='coerce')\n",
    "df.info()"
   ]
  },
  {
   "cell_type": "code",
   "execution_count": 5,
   "id": "caeef432",
   "metadata": {},
   "outputs": [
    {
     "data": {
      "text/html": [
       "<div>\n",
       "<style scoped>\n",
       "    .dataframe tbody tr th:only-of-type {\n",
       "        vertical-align: middle;\n",
       "    }\n",
       "\n",
       "    .dataframe tbody tr th {\n",
       "        vertical-align: top;\n",
       "    }\n",
       "\n",
       "    .dataframe thead th {\n",
       "        text-align: right;\n",
       "    }\n",
       "</style>\n",
       "<table border=\"1\" class=\"dataframe\">\n",
       "  <thead>\n",
       "    <tr style=\"text-align: right;\">\n",
       "      <th></th>\n",
       "      <th>fecha_servicio</th>\n",
       "      <th>tipo_residuo</th>\n",
       "      <th>nombre_residuo</th>\n",
       "      <th>cantidad_tn</th>\n",
       "      <th>sede</th>\n",
       "    </tr>\n",
       "  </thead>\n",
       "  <tbody>\n",
       "    <tr>\n",
       "      <th>0</th>\n",
       "      <td>2007-04-11</td>\n",
       "      <td>PELIGROSO</td>\n",
       "      <td>FLUORESCENTES USADOS</td>\n",
       "      <td>0.240</td>\n",
       "      <td>Santa Anita</td>\n",
       "    </tr>\n",
       "    <tr>\n",
       "      <th>1</th>\n",
       "      <td>2008-12-18</td>\n",
       "      <td>PELIGROSO</td>\n",
       "      <td>BATERÍAS EN DESUSO</td>\n",
       "      <td>0.180</td>\n",
       "      <td>Santa Anita</td>\n",
       "    </tr>\n",
       "    <tr>\n",
       "      <th>2</th>\n",
       "      <td>2008-12-18</td>\n",
       "      <td>PELIGROSO</td>\n",
       "      <td>ACEITE LUBRICANTE USADO</td>\n",
       "      <td>0.164</td>\n",
       "      <td>Santa Anita</td>\n",
       "    </tr>\n",
       "    <tr>\n",
       "      <th>3</th>\n",
       "      <td>2009-12-14</td>\n",
       "      <td>PELIGROSO</td>\n",
       "      <td>ACEITE LUBRICANTE USADO</td>\n",
       "      <td>0.694</td>\n",
       "      <td>Santa Anita</td>\n",
       "    </tr>\n",
       "    <tr>\n",
       "      <th>4</th>\n",
       "      <td>2010-12-01</td>\n",
       "      <td>PELIGROSO</td>\n",
       "      <td>ACEITE LUBRICANTE USADO</td>\n",
       "      <td>2.448</td>\n",
       "      <td>Santa Anita</td>\n",
       "    </tr>\n",
       "  </tbody>\n",
       "</table>\n",
       "</div>"
      ],
      "text/plain": [
       "  fecha_servicio tipo_residuo           nombre_residuo  cantidad_tn  \\\n",
       "0     2007-04-11    PELIGROSO     FLUORESCENTES USADOS        0.240   \n",
       "1     2008-12-18    PELIGROSO       BATERÍAS EN DESUSO        0.180   \n",
       "2     2008-12-18    PELIGROSO  ACEITE LUBRICANTE USADO        0.164   \n",
       "3     2009-12-14    PELIGROSO  ACEITE LUBRICANTE USADO        0.694   \n",
       "4     2010-12-01    PELIGROSO  ACEITE LUBRICANTE USADO        2.448   \n",
       "\n",
       "          sede  \n",
       "0  Santa Anita  \n",
       "1  Santa Anita  \n",
       "2  Santa Anita  \n",
       "3  Santa Anita  \n",
       "4  Santa Anita  "
      ]
     },
     "metadata": {},
     "output_type": "display_data"
    }
   ],
   "source": [
    "# Estandarizar los nombres de las sedes\n",
    "df[\"sede\"] = df[\"sede\"].str.strip().str.lower()\n",
    "df[\"sede\"] = df[\"sede\"].replace({\n",
    "    \"lurín\": \"Lurin\", \n",
    "    \"santa anita\": \"Santa Anita\", \n",
    "    \"aragón\": \"Aragon\"})\n",
    "# Asegurar que la cantidad sea numérica\n",
    "df[\"cantidad_tn\"] = pd.to_numeric(df[\"cantidad_tn\"], errors='coerce')\n",
    "# Eliminar posibles duplicados\n",
    "df = df.drop_duplicates()\n",
    "# Revisar los cambios realizados\n",
    "display(df.head())"
   ]
  },
  {
   "cell_type": "markdown",
   "id": "dce18e4e",
   "metadata": {},
   "source": [
    "2.ANALISIS EXPLORATORIO"
   ]
  },
  {
   "cell_type": "code",
   "execution_count": 6,
   "id": "b2c6a594",
   "metadata": {},
   "outputs": [
    {
     "data": {
      "image/png": "[encoded data removed]",
      "text/plain": [
       "<Figure size 1000x600 with 1 Axes>"
      ]
     },
     "metadata": {},
     "output_type": "display_data"
    },
    {
     "data": {
      "text/plain": [
       "<Figure size 1200x800 with 0 Axes>"
      ]
     },
     "metadata": {},
     "output_type": "display_data"
    },
    {
     "data": {
      "image/png": "[encoded data removed]",
      "text/plain": [
       "<Figure size 640x480 with 1 Axes>"
      ]
     },
     "metadata": {},
     "output_type": "display_data"
    }
   ],
   "source": [
    "# Convertir la fecha a formato datetime si es necesario\n",
    "df['fecha_servicio'] = pd.to_datetime(df['fecha_servicio'])\n",
    "\n",
    "# Agrupar los datos por año y mes para ver las tendencias anuales\n",
    "df['año'] = df['fecha_servicio'].dt.year\n",
    "df['mes'] = df['fecha_servicio'].dt.month\n",
    "\n",
    "# Sumar la cantidad de residuos por año y mes\n",
    "tendencias_anuales = df.groupby('año')['cantidad_tn'].sum()\n",
    "tendencias_mensuales = df.groupby(['año', 'mes'])['cantidad_tn'].sum().unstack()\n",
    "\n",
    "# Visualización de tendencias anuales\n",
    "plt.figure(figsize=(10, 6))\n",
    "plt.plot(tendencias_anuales.index, tendencias_anuales.values, marker='o')\n",
    "\n",
    "# Formatear el eje x para que muestre los años correctamente\n",
    "plt.title('Tendencia Anual de Generación de Residuos')\n",
    "plt.xlabel('Año')\n",
    "plt.ylabel('Cantidad de Residuos (toneladas)')\n",
    "plt.xticks(tendencias_anuales.index, rotation=45)  # Rotar etiquetas del eje x si es necesario\n",
    "plt.grid(True)\n",
    "plt.show()\n",
    "\n",
    "# Visualización de tendencias mensuales\n",
    "plt.figure(figsize=(12, 8))\n",
    "tendencias_mensuales.plot(kind='line')\n",
    "\n",
    "# Personalizar el título y las etiquetas\n",
    "plt.title('Tendencia Mensual de Generación de Residuos')\n",
    "plt.xlabel('Mes')\n",
    "plt.ylabel('Cantidad de Residuos (toneladas)')\n",
    "\n",
    "# Establecer los límites y ticks del eje Y desde 0 hasta 350 con un paso de 50\n",
    "plt.ylim(0, 350)  # Limitar el rango del eje Y\n",
    "plt.yticks(np.arange(0, 350, 50))  # Escala de 0 a 350 con paso de 50\n",
    "\n",
    "# Personalizar el eje X para que muestre solo los años\n",
    "plt.xticks(np.arange(2007, 2025, 1))  # De 2007 a 2024, de 1 en 1\n",
    "\n",
    "# Rotar etiquetas del eje X si es necesario\n",
    "plt.xticks(rotation=45)\n",
    "\n",
    "plt.grid(True)\n",
    "plt.show()\n"
   ]
  },
  {
   "cell_type": "markdown",
   "id": "56214661",
   "metadata": {},
   "source": [
    "TENDENCIA ANUAL DE GENERACION DE RESIDUOS\n",
    "\n",
    "Pre-2018:\n",
    "Generación de residuos baja y estable.\n",
    "Control de residuos laxo.\n",
    "Post-2018:\n",
    "Aumento drástico en la generación.\n",
    "Mayor fiscalización y sanciones.\n",
    "Posible aumento real en la producción.\n",
    "Implicación:\n",
    "Cambio marcado en la gestión de residuos.\n",
    "Efecto combinado de fiscalización y producción.\n",
    "\n",
    "TENDENCIA MENSUAL DE GENERACIOND DE RESIDUOS\n",
    "\n",
    "Aumento: La generación de residuos ha aumentado significativamente, especialmente en los últimos años (2023 y 2024).\n",
    "Variabilidad: Hay una gran variabilidad mensual en la generación de residuos.\n",
    "Picos: Los meses 1 (enero) y 12 (diciembre) a menudo muestran picos de generación.\n",
    "Implicación: Se necesita una mejor gestión de residuos."
   ]
  },
  {
   "cell_type": "markdown",
   "id": "1b81b3a5",
   "metadata": {},
   "source": [
    "3. MODELO PREDICTIVO"
   ]
  },
  {
   "cell_type": "markdown",
   "id": "9a4b29a1",
   "metadata": {},
   "source": [
    "Paso 1: Instalar las bibliotecas necesarias\n",
    "Instala statsmodels usando pip para poder usar el modelo Holt-Winters.\n",
    "\n",
    "Verifica que la instalación se haya realizado correctamente antes de continuar"
   ]
  },
  {
   "cell_type": "code",
   "execution_count": 7,
   "id": "055d3029",
   "metadata": {},
   "outputs": [
    {
     "name": "stdout",
     "output_type": "stream",
     "text": [
      "Collecting statsmodels\n",
      "  Downloading statsmodels-0.14.4-cp310-cp310-manylinux_2_17_x86_64.manylinux2014_x86_64.whl (10.8 MB)\n",
      "\u001b[2K     \u001b[90m━━━━━━━━━━━━━━━━━━━━━━━━━━━━━━━━━━━━━━━━\u001b[0m \u001b[32m10.8/10.8 MB\u001b[0m \u001b[31m84.8 MB/s\u001b[0m eta \u001b[36m0:00:00\u001b[0m00:01\u001b[0m00:01\u001b[0m\n",
      "\u001b[?25hRequirement already satisfied: packaging>=21.3 in /opt/conda/lib/python3.10/site-packages (from statsmodels) (23.0)\n",
      "Requirement already satisfied: pandas!=2.1.0,>=1.4 in /opt/conda/lib/python3.10/site-packages (from statsmodels) (2.2.3)\n",
      "Collecting scipy!=1.9.2,>=1.8\n",
      "  Downloading scipy-1.15.2-cp310-cp310-manylinux_2_17_x86_64.manylinux2014_x86_64.whl (37.6 MB)\n",
      "\u001b[2K     \u001b[90m━━━━━━━━━━━━━━━━━━━━━━━━━━━━━━━━━━━━━━━━\u001b[0m \u001b[32m37.6/37.6 MB\u001b[0m \u001b[31m36.0 MB/s\u001b[0m eta \u001b[36m0:00:00\u001b[0m00:01\u001b[0m00:01\u001b[0m\n",
      "\u001b[?25hRequirement already satisfied: numpy<3,>=1.22.3 in /opt/conda/lib/python3.10/site-packages (from statsmodels) (2.2.4)\n",
      "Collecting patsy>=0.5.6\n",
      "  Downloading patsy-1.0.1-py2.py3-none-any.whl (232 kB)\n",
      "\u001b[2K     \u001b[90m━━━━━━━━━━━━━━━━━━━━━━━━━━━━━━━━━━━━━━\u001b[0m \u001b[32m232.9/232.9 kB\u001b[0m \u001b[31m60.2 MB/s\u001b[0m eta \u001b[36m0:00:00\u001b[0m\n",
      "\u001b[?25hRequirement already satisfied: tzdata>=2022.7 in /opt/conda/lib/python3.10/site-packages (from pandas!=2.1.0,>=1.4->statsmodels) (2025.2)\n",
      "Requirement already satisfied: pytz>=2020.1 in /opt/conda/lib/python3.10/site-packages (from pandas!=2.1.0,>=1.4->statsmodels) (2022.7.1)\n",
      "Requirement already satisfied: python-dateutil>=2.8.2 in /opt/conda/lib/python3.10/site-packages (from pandas!=2.1.0,>=1.4->statsmodels) (2.8.2)\n",
      "Requirement already satisfied: six>=1.5 in /opt/conda/lib/python3.10/site-packages (from python-dateutil>=2.8.2->pandas!=2.1.0,>=1.4->statsmodels) (1.16.0)\n",
      "Installing collected packages: scipy, patsy, statsmodels\n",
      "Successfully installed patsy-1.0.1 scipy-1.15.2 statsmodels-0.14.4\n"
     ]
    }
   ],
   "source": [
    "!pip install statsmodels"
   ]
  },
  {
   "cell_type": "markdown",
   "id": "7c6284d2",
   "metadata": {},
   "source": [
    "Paso 2: Preparar los datos\n",
    "Convierte las fechas a formato datetime para manejarlas como series temporales.\n",
    "\n",
    "Agrupa los datos por mes y suma las cantidades de residuos generados en cada mes.\n",
    "\n",
    "Convierte las fechas de los grupos mensuales a un formato de timestamp para asegurar que sean adecuadas para el modelo."
   ]
  },
  {
   "cell_type": "code",
   "execution_count": 8,
   "id": "d206b67f",
   "metadata": {},
   "outputs": [
    {
     "data": {
      "text/html": [
       "<div>\n",
       "<style scoped>\n",
       "    .dataframe tbody tr th:only-of-type {\n",
       "        vertical-align: middle;\n",
       "    }\n",
       "\n",
       "    .dataframe tbody tr th {\n",
       "        vertical-align: top;\n",
       "    }\n",
       "\n",
       "    .dataframe thead th {\n",
       "        text-align: right;\n",
       "    }\n",
       "</style>\n",
       "<table border=\"1\" class=\"dataframe\">\n",
       "  <thead>\n",
       "    <tr style=\"text-align: right;\">\n",
       "      <th></th>\n",
       "      <th>fecha_servicio</th>\n",
       "      <th>cantidad_tn</th>\n",
       "      <th>año</th>\n",
       "      <th>mes</th>\n",
       "    </tr>\n",
       "  </thead>\n",
       "  <tbody>\n",
       "    <tr>\n",
       "      <th>0</th>\n",
       "      <td>2007-04-01</td>\n",
       "      <td>0.240</td>\n",
       "      <td>2007</td>\n",
       "      <td>4</td>\n",
       "    </tr>\n",
       "    <tr>\n",
       "      <th>1</th>\n",
       "      <td>2008-12-01</td>\n",
       "      <td>0.344</td>\n",
       "      <td>4016</td>\n",
       "      <td>24</td>\n",
       "    </tr>\n",
       "    <tr>\n",
       "      <th>2</th>\n",
       "      <td>2009-12-01</td>\n",
       "      <td>0.694</td>\n",
       "      <td>2009</td>\n",
       "      <td>12</td>\n",
       "    </tr>\n",
       "    <tr>\n",
       "      <th>3</th>\n",
       "      <td>2010-12-01</td>\n",
       "      <td>4.328</td>\n",
       "      <td>4020</td>\n",
       "      <td>24</td>\n",
       "    </tr>\n",
       "    <tr>\n",
       "      <th>4</th>\n",
       "      <td>2011-10-01</td>\n",
       "      <td>3.397</td>\n",
       "      <td>4022</td>\n",
       "      <td>20</td>\n",
       "    </tr>\n",
       "  </tbody>\n",
       "</table>\n",
       "</div>"
      ],
      "text/plain": [
       "  fecha_servicio  cantidad_tn   año  mes\n",
       "0     2007-04-01        0.240  2007    4\n",
       "1     2008-12-01        0.344  4016   24\n",
       "2     2009-12-01        0.694  2009   12\n",
       "3     2010-12-01        4.328  4020   24\n",
       "4     2011-10-01        3.397  4022   20"
      ]
     },
     "execution_count": 8,
     "metadata": {},
     "output_type": "execute_result"
    }
   ],
   "source": [
    "# Asegúrate de tener los datos en formato correcto\n",
    "df['fecha_servicio'] = pd.to_datetime(df['fecha_servicio'])\n",
    "\n",
    "# Agrupar por mes y sumar la cantidad de residuos generados\n",
    "df_mensual = df.groupby(df['fecha_servicio'].dt.to_period('M')).sum().reset_index()\n",
    "df_mensual['fecha_servicio'] = df_mensual['fecha_servicio'].dt.to_timestamp()\n",
    "\n",
    "# Mostrar las primeras filas para verificar los datos\n",
    "df_mensual.head()"
   ]
  },
  {
   "cell_type": "code",
   "execution_count": null,
   "id": "09eb10c4",
   "metadata": {},
   "outputs": [],
   "source": [
    "Paso 3: Entrenar el modelo Holt-Winters\n",
    "Inicializa y ajusta el modelo Holt-Winters con las configuraciones adecuadas (tendencia y estacionalidad).\n",
    "\n",
    "Ajusta el modelo utilizando los datos mensuales de residuos."
   ]
  },
  {
   "cell_type": "code",
   "execution_count": 9,
   "id": "5d525033",
   "metadata": {},
   "outputs": [
    {
     "name": "stdout",
     "output_type": "stream",
     "text": [
      "                       ExponentialSmoothing Model Results                       \n",
      "================================================================================\n",
      "Dep. Variable:              cantidad_tn   No. Observations:                  106\n",
      "Model:             ExponentialSmoothing   SSE                         183477.336\n",
      "Optimized:                         True   AIC                            822.379\n",
      "Trend:                         Additive   BIC                            864.994\n",
      "Seasonal:                      Additive   AICC                           830.241\n",
      "Seasonal Periods:                    12   Date:                 Thu, 03 Apr 2025\n",
      "Box-Cox:                          False   Time:                         03:01:43\n",
      "Box-Cox Coeff.:                    None                                         \n",
      "=================================================================================\n",
      "                          coeff                 code              optimized      \n",
      "---------------------------------------------------------------------------------\n",
      "smoothing_level               0.0382897                alpha                 True\n",
      "smoothing_trend               0.0362446                 beta                 True\n",
      "smoothing_seasonal            0.0001580                gamma                 True\n",
      "initial_level                -0.7208569                  l.0                 True\n",
      "initial_trend                 0.6704610                  b.0                 True\n",
      "initial_seasons.0             26.794558                  s.0                 True\n",
      "initial_seasons.1            -3.6322750                  s.1                 True\n",
      "initial_seasons.2             25.348208                  s.2                 True\n",
      "initial_seasons.3            -9.6585639                  s.3                 True\n",
      "initial_seasons.4            -12.152515                  s.4                 True\n",
      "initial_seasons.5             13.390212                  s.5                 True\n",
      "initial_seasons.6            -7.3466991                  s.6                 True\n",
      "initial_seasons.7            -7.4200257                  s.7                 True\n",
      "initial_seasons.8            -16.547761                  s.8                 True\n",
      "initial_seasons.9            -7.0134438                  s.9                 True\n",
      "initial_seasons.10           -4.0408675                 s.10                 True\n",
      "initial_seasons.11           -1.1674408                 s.11                 True\n",
      "---------------------------------------------------------------------------------\n"
     ]
    }
   ],
   "source": [
    "from statsmodels.tsa.holtwinters import ExponentialSmoothing\n",
    "\n",
    "# Ajustar el modelo Holt-Winters\n",
    "modelo_hw = ExponentialSmoothing(df_mensual['cantidad_tn'], \n",
    "                                 trend='add', \n",
    "                                 seasonal='add', \n",
    "                                 seasonal_periods=12)  # Estacionalidad mensual (12 períodos)\n",
    "modelo_hw_fitted = modelo_hw.fit()\n",
    "\n",
    "# Ver el resumen del modelo ajustado\n",
    "print(modelo_hw_fitted.summary())\n"
   ]
  },
  {
   "cell_type": "markdown",
   "id": "a2771ed4",
   "metadata": {},
   "source": [
    "Paso 4: Generar las predicciones\n",
    "Usa el modelo ajustado para generar predicciones para los próximos 12 meses.\n",
    "\n",
    "Crea un DataFrame con las fechas futuras y las predicciones generadas."
   ]
  },
  {
   "cell_type": "code",
   "execution_count": 10,
   "id": "e231ad79",
   "metadata": {},
   "outputs": [
    {
     "name": "stdout",
     "output_type": "stream",
     "text": [
      "    fecha_servicio  prediccion\n",
      "106     2024-10-31   60.994474\n",
      "107     2024-11-30   64.473430\n",
      "108     2024-12-31   93.042128\n",
      "109     2025-01-31   63.221742\n",
      "110     2025-02-28   92.808105\n",
      "111     2025-03-31   58.407887\n",
      "112     2025-04-30   56.520120\n",
      "113     2025-05-31   82.668753\n",
      "114     2025-06-30   62.538321\n",
      "115     2025-07-31   63.071205\n",
      "116     2025-08-31   54.549693\n",
      "117     2025-09-30   64.698694\n"
     ]
    }
   ],
   "source": [
    "# Generar predicciones para los próximos 12 meses\n",
    "predicciones_hw = modelo_hw_fitted.forecast(steps=12)\n",
    "\n",
    "# Crear un DataFrame con las predicciones y las fechas correspondientes\n",
    "fechas_futuras = pd.date_range(df_mensual['fecha_servicio'].max(), periods=13, freq='M')[1:]\n",
    "predicciones_df = pd.DataFrame({'fecha_servicio': fechas_futuras, 'prediccion': predicciones_hw})\n",
    "\n",
    "# Ver las predicciones\n",
    "print(predicciones_df)\n"
   ]
  },
  {
   "cell_type": "markdown",
   "id": "0f242361",
   "metadata": {},
   "source": [
    "Paso 5: Visualizar los resultados\n",
    "Grafica tanto los datos históricos como las predicciones para comparar los resultados.\n",
    "\n",
    "Personaliza el gráfico para mejorar la visualización y hacer que las predicciones sean fácilmente identificables."
   ]
  },
  {
   "cell_type": "code",
   "execution_count": 11,
   "id": "dc1221e8",
   "metadata": {},
   "outputs": [
    {
     "data": {
      "image/png": "[encoded data removed]",
      "text/plain": [
       "<Figure size 1000x600 with 1 Axes>"
      ]
     },
     "metadata": {},
     "output_type": "display_data"
    }
   ],
   "source": [
    "# Graficar los resultados\n",
    "plt.figure(figsize=(10, 6))\n",
    "\n",
    "# Graficar los datos históricos\n",
    "plt.plot(df_mensual['fecha_servicio'], df_mensual['cantidad_tn'], label='Datos históricos')\n",
    "\n",
    "# Graficar las predicciones\n",
    "plt.plot(predicciones_df['fecha_servicio'], predicciones_df['prediccion'], label='Predicciones', linestyle='--')\n",
    "\n",
    "# Personalizar el gráfico\n",
    "plt.title(\"Predicción de Generación de Residuos (Holt-Winters)\")\n",
    "plt.xlabel(\"Fecha\")\n",
    "plt.ylabel(\"Cantidad de Residuos (toneladas)\")\n",
    "plt.legend()\n",
    "plt.xticks(rotation=45)\n",
    "\n",
    "# Mostrar el gráfico\n",
    "plt.grid(True)\n",
    "plt.show()"
   ]
  },
  {
   "cell_type": "markdown",
   "id": "bfcacfe5",
   "metadata": {},
   "source": [
    "INTERPRETACION DE LS DATOS OBTENIDOS CON EL MODELO\n",
    "Contexto normativo y su impacto\n",
    "\n",
    "Aunque los datos de generación de residuos están disponibles desde 2007, un cambio importante ocurrió en 2018, cuando la legislación ambiental en Perú se volvió más estricta en cuanto a la gestión de residuos.\n",
    "\n",
    "Esto significa que, antes de 2018, la empresa probablemente no tenía una gestión rigurosa ni reportaba con precisión la generación de residuos.\n",
    "\n",
    "Desde 2019, con la creación del área de medio ambiente, se pudo haber mejorado el registro y control de los residuos, lo que explicaría un aumento más notorio en los datos a partir de ese año.\n",
    "\n",
    "RELACION ENTRE PRODUCCION Y GENERACION DE RESIDUOS\n",
    "\n",
    "El incremento en la producción de la empresa ha influido directamente en la cantidad de residuos generados.\n",
    "\n",
    "La tendencia al alza en la generación de residuos en los últimos años puede estar reflejando tanto un crecimiento en la producción como una mejor capacidad de medición y reporte debido a la existencia del área ambiental.\n",
    "\n",
    "Interpretación de los picos recientes (2023-2024)\n",
    "\n",
    "Los picos extremos en la generación de residuos en 2023 y 2024 pueden estar asociados a eventos específicos, como aumentos abruptos en la producción, cambios en la normativa o implementación de nuevas prácticas de gestión de residuos.\n",
    "\n",
    "Es importante analizar si estos valores representan situaciones atípicas o si reflejan una nueva tendencia.\n",
    "\n",
    "PREDICCIONES Y PROYECCIONES FUTURAS\n",
    "\n",
    "El modelo Holt-Winters está prediciendo fluctuaciones para los próximos meses, lo que puede estar reflejando la variabilidad en la producción y la gestión de residuos.\n",
    "\n",
    "Sin embargo, dado que la legislación se ha vuelto más estricta y la producción sigue en aumento, podría ser útil complementar este modelo con otro que incorpore variables externas como producción mensual y cambios en la normativa.\n",
    "\n",
    "Recomendaciones para mejorar la interpretación y la predicción\n",
    "Incluir datos de producción en el análisis para ver exactamente cómo influye en la generación de residuos.\n",
    "\n",
    "Analizar los efectos de la normativa antes y después de 2018 para determinar si los cambios en la cantidad de residuos reflejan cumplimiento legal o simplemente un mejor registro.\n",
    "\n",
    "Revisar los picos atípicos de 2023-2024 para entender si son eventos únicos o si representan un patrón recurrente."
   ]
  },
  {
   "cell_type": "markdown",
   "id": "77658835",
   "metadata": {},
   "source": [
    "OPTIMIZACION DE GESTION DE RESIDUOS "
   ]
  },
  {
   "cell_type": "markdown",
   "id": "8bd479c2",
   "metadata": {},
   "source": [
    "CALCULO DE RESIDUOS GENERADOS\n",
    "El primer paso es calcular la cantidad de residuos peligrosos y no peligrosos generados. En tu base de datos, ya tienes una columna que indica el tipo de residuo (peligroso o no peligroso). Puedes agrupar los residuos por tipo y calcular la cantidad total generada para cada uno."
   ]
  },
  {
   "cell_type": "code",
   "execution_count": 36,
   "id": "9853e92c",
   "metadata": {},
   "outputs": [
    {
     "name": "stdout",
     "output_type": "stream",
     "text": [
      "   tipo_residuo  cantidad_tn\n",
      "0  NO PELIGROSO   2049.94358\n",
      "1     PELIGROSO   1380.95560\n"
     ]
    }
   ],
   "source": [
    "# Agrupar por tipo de residuo y sumar la cantidad de residuos generados\n",
    "df_residuos_generados = df.groupby('tipo_residuo')['cantidad_tn'].sum().reset_index()\n",
    "\n",
    "# Mostrar resultados\n",
    "print(df_residuos_generados)\n"
   ]
  },
  {
   "cell_type": "markdown",
   "id": "808dd5c3",
   "metadata": {},
   "source": [
    "TASA DE DESVIACION DE RESIDUOS La tasa de desviación de residuos mide la cantidad de residuos no peligrosos que se gestionan de manera diferente (por ejemplo, reciclaje, reutilización o disposición especial) frente a los residuos que van directamente al relleno sanitario.\n",
    "\n",
    "Supuesto: Si no tienes un dato directo de los residuos reciclados, puedes asumir que los residuos no peligrosos podrían ser gestionados de manera diferente, mientras que los residuos peligrosos van al relleno."
   ]
  },
  {
   "cell_type": "code",
   "execution_count": 38,
   "id": "7ca3db55",
   "metadata": {},
   "outputs": [
    {
     "name": "stdout",
     "output_type": "stream",
     "text": [
      "Tasa de desviación de residuos no peligrosos: 59.75%\n"
     ]
    }
   ],
   "source": [
    "# Eliminar espacios y normalizar las categorías de residuos\n",
    "df['tipo_residuo'] = df['tipo_residuo'].str.strip().str.upper()\n",
    "\n",
    "# Calcular residuos no peligrosos y peligrosos\n",
    "total_no_peligrosos = df[df['tipo_residuo'] == 'NO PELIGROSO']['cantidad_tn'].sum()\n",
    "total_peligrosos = df[df['tipo_residuo'] == 'PELIGROSO']['cantidad_tn'].sum()\n",
    "\n",
    "# Verifica si alguno es cero\n",
    "if total_no_peligrosos == 0 and total_peligrosos == 0:\n",
    "    print(\"No hay residuos registrados para este cálculo.\")\n",
    "else:\n",
    "    # Tasa de desviación (no peligrosa desviada o gestionada diferente)\n",
    "    if total_no_peligrosos + total_peligrosos > 0:\n",
    "        tasa_desviacion = total_no_peligrosos / (total_no_peligrosos + total_peligrosos)\n",
    "        print(f'Tasa de desviación de residuos no peligrosos: {tasa_desviacion * 100:.2f}%')\n",
    "    else:\n",
    "        print(\"No se puede calcular la tasa de desviación debido a la falta de datos.\")\n"
   ]
  },
  {
   "cell_type": "markdown",
   "id": "56843323",
   "metadata": {},
   "source": [
    "ESTRATEGIAS DE REDUCCION\n",
    "\n",
    "Reducción en la fuente:\n",
    "\n",
    "    Optimizar procesos de producción para reducir desperdicios.\n",
    "    Diseñar productos más sostenibles y con menor generación de residuos.\n",
    "    Mejorar la eficiencia en el uso de materias primas.\n",
    "\n",
    "Reutilización y valorización:\n",
    "\n",
    "    Investigar opciones para reutilizar algunos residuos no peligrosos dentro del proceso.\n",
    "    Valorizar residuos peligrosos (baterías, aceites, RAEE) a través de tratamientos especializados.\n",
    "\n",
    "Optimización de la disposición final:\n",
    "\n",
    "    Mejorar la segregación de residuos en planta para asegurar una correcta gestión.\n",
    "    Implementar tecnologías de tratamiento controlado para residuos peligrosos.\n",
    "\n",
    "Gestión externa de residuos:\n",
    "\n",
    "    Colaborar con empresas especializadas en la gestión y tratamiento de residuos peligrosos.\n",
    "    Implementar políticas de responsabilidad extendida del productor para ciertos residuos.\n",
    "\n",
    "Este enfoque te permitirá reducir la cantidad de residuos generados, mejorar la gestión de residuos peligrosos y optimizar la disposición final en el relleno sanitario."
   ]
  },
  {
   "cell_type": "markdown",
   "id": "774e9476",
   "metadata": {},
   "source": [
    "ANALISIS FINAL \n",
    "\n",
    "Conclusiones:\n",
    "Generación de residuos: La planta genera tanto residuos peligrosos como no peligrosos. Los residuos no peligrosos tienen una tasa de desviación del 59.75%, lo que indica que una parte significativa es gestionada de manera especial.\n",
    "\n",
    "Gestión de residuos peligrosos: No es posible reciclar los residuos peligrosos, pero es crucial optimizar su disposición final para reducir el impacto ambiental.\n",
    "\n",
    "Posibles mejoras: A pesar de la tasa de desviación positiva, hay oportunidades para mejorar la segregación y la reutilización de residuos no peligrosos, así como explorar tecnologías para tratar residuos peligrosos.\n",
    "\n",
    "Sugerencias:\n",
    "Mejorar la segregación de residuos: Implementar procesos más eficaces para separar residuos peligrosos y no peligrosos en la planta.\n",
    "\n",
    "Fomentar reciclaje y reutilización: Promover el reciclaje de residuos no peligrosos y buscar maneras de reutilizar materiales en la planta.\n",
    "\n",
    "Tecnologías de tratamiento para residuos peligrosos: Explorar tecnologías que permitan tratar los residuos peligrosos antes de enviarlos al relleno sanitario.\n",
    "\n",
    "Monitoreo y capacitación: Establecer un sistema de monitoreo continuo y capacitar al personal para mejorar la gestión de residuos.\n",
    "\n",
    "Datos clave:\n",
    "    \n",
    "Tasa de desviación de residuos no peligrosos: 59.75%.\n",
    "\n",
    "Residuos generados: 2049.94 toneladas de residuos no peligrosos y 1380.96 toneladas de residuos peligrosos.\n",
    "\n",
    "Estas acciones pueden optimizar la gestión de residuos, reducir el impacto ambiental y mejorar la eficiencia operativa."
   ]
  }
 ],
 "metadata": {
  "ExecuteTimeLog": [
   {
    "duration": 0,
    "start_time": "2025-04-03T01:02:18.327Z"
   },
   {
    "duration": 57,
    "start_time": "2025-04-03T01:02:20.718Z"
   },
   {
    "duration": 50,
    "start_time": "2025-04-03T01:03:08.496Z"
   },
   {
    "duration": 48,
    "start_time": "2025-04-03T01:03:11.497Z"
   },
   {
    "duration": 65,
    "start_time": "2025-04-03T01:06:19.272Z"
   },
   {
    "duration": 50,
    "start_time": "2025-04-03T01:06:21.397Z"
   },
   {
    "duration": 7,
    "start_time": "2025-04-03T01:07:33.019Z"
   },
   {
    "duration": 49,
    "start_time": "2025-04-03T01:08:14.913Z"
   },
   {
    "duration": 6,
    "start_time": "2025-04-03T01:08:58.394Z"
   },
   {
    "duration": 51,
    "start_time": "2025-04-03T01:10:44.220Z"
   },
   {
    "duration": 65,
    "start_time": "2025-04-03T01:11:32.913Z"
   },
   {
    "duration": 82,
    "start_time": "2025-04-03T01:13:14.813Z"
   },
   {
    "duration": 50,
    "start_time": "2025-04-03T01:21:42.851Z"
   },
   {
    "duration": 6,
    "start_time": "2025-04-03T01:22:41.448Z"
   },
   {
    "duration": 17,
    "start_time": "2025-04-03T01:23:48.340Z"
   },
   {
    "duration": 14,
    "start_time": "2025-04-03T01:24:03.498Z"
   },
   {
    "duration": 1928,
    "start_time": "2025-04-03T01:24:49.873Z"
   },
   {
    "duration": 2470,
    "start_time": "2025-04-03T01:25:54.600Z"
   },
   {
    "duration": 2177,
    "start_time": "2025-04-03T01:26:08.476Z"
   },
   {
    "duration": 2446,
    "start_time": "2025-04-03T01:28:15.452Z"
   },
   {
    "duration": 19,
    "start_time": "2025-04-03T01:29:53.289Z"
   },
   {
    "duration": 8,
    "start_time": "2025-04-03T01:29:55.543Z"
   },
   {
    "duration": 592,
    "start_time": "2025-04-03T01:30:27.544Z"
   },
   {
    "duration": 33,
    "start_time": "2025-04-03T01:30:40.231Z"
   },
   {
    "duration": 22,
    "start_time": "2025-04-03T01:31:17.756Z"
   },
   {
    "duration": 58,
    "start_time": "2025-04-03T01:32:36.648Z"
   },
   {
    "duration": 12,
    "start_time": "2025-04-03T01:33:36.184Z"
   },
   {
    "duration": 3,
    "start_time": "2025-04-03T01:36:10.058Z"
   },
   {
    "duration": 646,
    "start_time": "2025-04-03T01:36:16.658Z"
   },
   {
    "duration": 21,
    "start_time": "2025-04-03T01:38:02.209Z"
   },
   {
    "duration": 11,
    "start_time": "2025-04-03T01:38:12.311Z"
   },
   {
    "duration": 2201,
    "start_time": "2025-04-03T01:38:30.663Z"
   },
   {
    "duration": 76,
    "start_time": "2025-04-03T01:38:32.867Z"
   },
   {
    "duration": 2195,
    "start_time": "2025-04-03T01:38:42.948Z"
   },
   {
    "duration": 43,
    "start_time": "2025-04-03T01:38:58.631Z"
   },
   {
    "duration": 55,
    "start_time": "2025-04-03T01:39:03.409Z"
   },
   {
    "duration": 2264,
    "start_time": "2025-04-03T01:39:16.781Z"
   },
   {
    "duration": 65,
    "start_time": "2025-04-03T01:39:25.647Z"
   },
   {
    "duration": 9,
    "start_time": "2025-04-03T01:39:31.194Z"
   },
   {
    "duration": 14,
    "start_time": "2025-04-03T01:40:00.947Z"
   },
   {
    "duration": 19,
    "start_time": "2025-04-03T01:40:33.429Z"
   },
   {
    "duration": 7,
    "start_time": "2025-04-03T01:41:02.126Z"
   },
   {
    "duration": 6,
    "start_time": "2025-04-03T01:41:46.660Z"
   },
   {
    "duration": 35,
    "start_time": "2025-04-03T01:41:53.373Z"
   },
   {
    "duration": 7,
    "start_time": "2025-04-03T01:41:59.219Z"
   },
   {
    "duration": 2303,
    "start_time": "2025-04-03T01:42:04.273Z"
   },
   {
    "duration": 73,
    "start_time": "2025-04-03T01:42:06.578Z"
   },
   {
    "duration": 11,
    "start_time": "2025-04-03T01:42:14.363Z"
   },
   {
    "duration": 2299,
    "start_time": "2025-04-03T01:42:22.802Z"
   },
   {
    "duration": 70,
    "start_time": "2025-04-03T01:42:25.103Z"
   },
   {
    "duration": 8,
    "start_time": "2025-04-03T01:42:33.106Z"
   },
   {
    "duration": 13,
    "start_time": "2025-04-03T01:42:55.288Z"
   },
   {
    "duration": 11,
    "start_time": "2025-04-03T01:43:05.304Z"
   },
   {
    "duration": 21,
    "start_time": "2025-04-03T01:44:01.202Z"
   },
   {
    "duration": 6,
    "start_time": "2025-04-03T01:44:18.955Z"
   },
   {
    "duration": 6,
    "start_time": "2025-04-03T01:44:21.046Z"
   },
   {
    "duration": 5,
    "start_time": "2025-04-03T01:44:45.604Z"
   },
   {
    "duration": 5,
    "start_time": "2025-04-03T01:45:28.794Z"
   },
   {
    "duration": 5,
    "start_time": "2025-04-03T01:45:39.238Z"
   },
   {
    "duration": 5,
    "start_time": "2025-04-03T01:45:41.328Z"
   },
   {
    "duration": 11,
    "start_time": "2025-04-03T01:45:55.493Z"
   },
   {
    "duration": 10,
    "start_time": "2025-04-03T01:46:09.523Z"
   },
   {
    "duration": 91,
    "start_time": "2025-04-03T01:47:01.040Z"
   },
   {
    "duration": 4,
    "start_time": "2025-04-03T01:47:12.113Z"
   },
   {
    "duration": 4,
    "start_time": "2025-04-03T01:47:18.167Z"
   },
   {
    "duration": 5,
    "start_time": "2025-04-03T01:47:30.673Z"
   },
   {
    "duration": 11,
    "start_time": "2025-04-03T01:47:40.497Z"
   },
   {
    "duration": 15,
    "start_time": "2025-04-03T01:48:40.416Z"
   },
   {
    "duration": 392,
    "start_time": "2025-04-03T01:53:37.132Z"
   },
   {
    "duration": 523,
    "start_time": "2025-04-03T01:56:00.760Z"
   },
   {
    "duration": 17,
    "start_time": "2025-04-03T01:59:15.784Z"
   },
   {
    "duration": 407,
    "start_time": "2025-04-03T01:59:18.507Z"
   },
   {
    "duration": 530,
    "start_time": "2025-04-03T01:59:55.963Z"
   },
   {
    "duration": 394,
    "start_time": "2025-04-03T02:00:32.353Z"
   },
   {
    "duration": 388,
    "start_time": "2025-04-03T02:01:20.920Z"
   },
   {
    "duration": 366,
    "start_time": "2025-04-03T02:01:48.207Z"
   },
   {
    "duration": 385,
    "start_time": "2025-04-03T02:02:25.739Z"
   },
   {
    "duration": 377,
    "start_time": "2025-04-03T02:02:56.426Z"
   },
   {
    "duration": 517,
    "start_time": "2025-04-03T02:03:16.563Z"
   },
   {
    "duration": 415,
    "start_time": "2025-04-03T02:04:27.721Z"
   },
   {
    "duration": 26,
    "start_time": "2025-04-03T02:26:15.925Z"
   },
   {
    "duration": 2347,
    "start_time": "2025-04-03T02:26:38.185Z"
   },
   {
    "duration": 67,
    "start_time": "2025-04-03T02:26:40.534Z"
   },
   {
    "duration": 25,
    "start_time": "2025-04-03T02:26:40.603Z"
   },
   {
    "duration": 10,
    "start_time": "2025-04-03T02:26:40.630Z"
   },
   {
    "duration": 11,
    "start_time": "2025-04-03T02:26:40.641Z"
   },
   {
    "duration": 388,
    "start_time": "2025-04-03T02:26:41.773Z"
   },
   {
    "duration": 24,
    "start_time": "2025-04-03T02:28:16.702Z"
   },
   {
    "duration": 12538,
    "start_time": "2025-04-03T02:29:04.409Z"
   },
   {
    "duration": 1509,
    "start_time": "2025-04-03T02:29:46.974Z"
   },
   {
    "duration": 22,
    "start_time": "2025-04-03T02:29:54.566Z"
   },
   {
    "duration": 1638,
    "start_time": "2025-04-03T02:30:51.064Z"
   },
   {
    "duration": 3229,
    "start_time": "2025-04-03T02:31:23.772Z"
   },
   {
    "duration": 73,
    "start_time": "2025-04-03T02:31:27.003Z"
   },
   {
    "duration": 8,
    "start_time": "2025-04-03T02:31:27.078Z"
   },
   {
    "duration": 10,
    "start_time": "2025-04-03T02:31:27.089Z"
   },
   {
    "duration": 33,
    "start_time": "2025-04-03T02:31:27.101Z"
   },
   {
    "duration": 458,
    "start_time": "2025-04-03T02:31:27.692Z"
   },
   {
    "duration": 1528,
    "start_time": "2025-04-03T02:31:28.689Z"
   },
   {
    "duration": 250,
    "start_time": "2025-04-03T02:31:31.640Z"
   },
   {
    "duration": 3180,
    "start_time": "2025-04-03T02:32:44.176Z"
   },
   {
    "duration": 28,
    "start_time": "2025-04-03T02:32:47.359Z"
   },
   {
    "duration": 3286,
    "start_time": "2025-04-03T02:33:28.230Z"
   },
   {
    "duration": 68,
    "start_time": "2025-04-03T02:33:31.524Z"
   },
   {
    "duration": 9,
    "start_time": "2025-04-03T02:33:31.594Z"
   },
   {
    "duration": 27,
    "start_time": "2025-04-03T02:33:31.605Z"
   },
   {
    "duration": 13,
    "start_time": "2025-04-03T02:33:31.633Z"
   },
   {
    "duration": 500,
    "start_time": "2025-04-03T02:33:31.647Z"
   },
   {
    "duration": 2906,
    "start_time": "2025-04-03T02:33:32.149Z"
   },
   {
    "duration": 234,
    "start_time": "2025-04-03T02:33:36.950Z"
   },
   {
    "duration": 6997,
    "start_time": "2025-04-03T02:33:48.081Z"
   },
   {
    "duration": 0,
    "start_time": "2025-04-03T02:33:55.104Z"
   },
   {
    "duration": 3206,
    "start_time": "2025-04-03T02:34:11.332Z"
   },
   {
    "duration": 64,
    "start_time": "2025-04-03T02:34:14.540Z"
   },
   {
    "duration": 21,
    "start_time": "2025-04-03T02:34:14.606Z"
   },
   {
    "duration": 9,
    "start_time": "2025-04-03T02:34:14.630Z"
   },
   {
    "duration": 11,
    "start_time": "2025-04-03T02:34:14.641Z"
   },
   {
    "duration": 470,
    "start_time": "2025-04-03T02:34:15.004Z"
   },
   {
    "duration": 4414,
    "start_time": "2025-04-03T02:34:15.604Z"
   },
   {
    "duration": 243,
    "start_time": "2025-04-03T02:34:20.020Z"
   },
   {
    "duration": 3,
    "start_time": "2025-04-03T02:35:33.554Z"
   },
   {
    "duration": 22,
    "start_time": "2025-04-03T02:35:39.807Z"
   },
   {
    "duration": 301504,
    "start_time": "2025-04-03T02:36:23.157Z"
   },
   {
    "duration": 32,
    "start_time": "2025-04-03T02:41:24.664Z"
   },
   {
    "duration": 21,
    "start_time": "2025-04-03T02:41:55.082Z"
   },
   {
    "duration": 3432,
    "start_time": "2025-04-03T02:42:14.491Z"
   },
   {
    "duration": 72,
    "start_time": "2025-04-03T02:42:17.926Z"
   },
   {
    "duration": 10,
    "start_time": "2025-04-03T02:42:18.000Z"
   },
   {
    "duration": 13,
    "start_time": "2025-04-03T02:42:18.025Z"
   },
   {
    "duration": 15,
    "start_time": "2025-04-03T02:42:18.039Z"
   },
   {
    "duration": 516,
    "start_time": "2025-04-03T02:42:19.514Z"
   },
   {
    "duration": 3,
    "start_time": "2025-04-03T02:42:20.574Z"
   },
   {
    "duration": 266129,
    "start_time": "2025-04-03T02:42:22.159Z"
   },
   {
    "duration": 0,
    "start_time": "2025-04-03T02:46:48.543Z"
   },
   {
    "duration": 19,
    "start_time": "2025-04-03T02:47:08.677Z"
   },
   {
    "duration": 340,
    "start_time": "2025-04-03T02:48:03.060Z"
   },
   {
    "duration": 19,
    "start_time": "2025-04-03T02:48:18.390Z"
   },
   {
    "duration": 260110,
    "start_time": "2025-04-03T02:49:30.401Z"
   },
   {
    "duration": 0,
    "start_time": "2025-04-03T02:55:07.287Z"
   },
   {
    "duration": 0,
    "start_time": "2025-04-03T02:55:07.290Z"
   },
   {
    "duration": 3281,
    "start_time": "2025-04-03T02:55:58.976Z"
   },
   {
    "duration": 76,
    "start_time": "2025-04-03T02:56:02.258Z"
   },
   {
    "duration": 8,
    "start_time": "2025-04-03T02:56:02.336Z"
   },
   {
    "duration": 10,
    "start_time": "2025-04-03T02:56:02.346Z"
   },
   {
    "duration": 11,
    "start_time": "2025-04-03T02:56:02.358Z"
   },
   {
    "duration": 467,
    "start_time": "2025-04-03T02:56:02.923Z"
   },
   {
    "duration": 3,
    "start_time": "2025-04-03T02:56:03.883Z"
   },
   {
    "duration": 299739,
    "start_time": "2025-04-03T02:56:05.341Z"
   },
   {
    "duration": 3244,
    "start_time": "2025-04-03T03:01:25.399Z"
   },
   {
    "duration": 65,
    "start_time": "2025-04-03T03:01:28.646Z"
   },
   {
    "duration": 18,
    "start_time": "2025-04-03T03:01:28.713Z"
   },
   {
    "duration": 10,
    "start_time": "2025-04-03T03:01:28.734Z"
   },
   {
    "duration": 12,
    "start_time": "2025-04-03T03:01:28.746Z"
   },
   {
    "duration": 493,
    "start_time": "2025-04-03T03:01:28.760Z"
   },
   {
    "duration": 7749,
    "start_time": "2025-04-03T03:01:31.392Z"
   },
   {
    "duration": 18,
    "start_time": "2025-04-03T03:01:39.150Z"
   },
   {
    "duration": 94,
    "start_time": "2025-04-03T03:01:43.136Z"
   },
   {
    "duration": 8,
    "start_time": "2025-04-03T03:01:46.425Z"
   },
   {
    "duration": 177,
    "start_time": "2025-04-03T03:01:50.066Z"
   },
   {
    "duration": 644,
    "start_time": "2025-04-03T03:15:46.620Z"
   },
   {
    "duration": 214,
    "start_time": "2025-04-03T03:17:04.728Z"
   },
   {
    "duration": 4,
    "start_time": "2025-04-03T03:17:41.536Z"
   },
   {
    "duration": 9,
    "start_time": "2025-04-03T03:18:36.482Z"
   },
   {
    "duration": 7,
    "start_time": "2025-04-03T03:22:28.766Z"
   },
   {
    "duration": 8,
    "start_time": "2025-04-03T03:23:08.584Z"
   },
   {
    "duration": 19,
    "start_time": "2025-04-03T03:24:27.808Z"
   },
   {
    "duration": 6,
    "start_time": "2025-04-03T03:25:25.109Z"
   },
   {
    "duration": 6,
    "start_time": "2025-04-03T03:25:25.893Z"
   },
   {
    "duration": 6,
    "start_time": "2025-04-03T03:25:26.848Z"
   },
   {
    "duration": 16,
    "start_time": "2025-04-03T03:25:28.220Z"
   },
   {
    "duration": 4,
    "start_time": "2025-04-03T03:25:58.564Z"
   },
   {
    "duration": 3,
    "start_time": "2025-04-03T03:26:29.300Z"
   },
   {
    "duration": 5,
    "start_time": "2025-04-03T03:26:30.709Z"
   },
   {
    "duration": 1070,
    "start_time": "2025-04-03T03:26:52.198Z"
   },
   {
    "duration": 1324,
    "start_time": "2025-04-03T03:30:35.938Z"
   },
   {
    "duration": 1388,
    "start_time": "2025-04-03T03:32:34.657Z"
   },
   {
    "duration": 1315,
    "start_time": "2025-04-03T03:33:31.265Z"
   },
   {
    "duration": 1425,
    "start_time": "2025-04-03T03:34:35.155Z"
   },
   {
    "duration": 1541,
    "start_time": "2025-04-03T03:36:07.997Z"
   },
   {
    "duration": 1470,
    "start_time": "2025-04-03T03:36:44.476Z"
   },
   {
    "duration": 1503,
    "start_time": "2025-04-03T03:37:08.528Z"
   },
   {
    "duration": 1356,
    "start_time": "2025-04-03T03:38:29.437Z"
   },
   {
    "duration": 1377,
    "start_time": "2025-04-03T03:38:53.004Z"
   },
   {
    "duration": 7,
    "start_time": "2025-04-03T03:53:31.926Z"
   },
   {
    "duration": 6,
    "start_time": "2025-04-03T03:54:31.969Z"
   },
   {
    "duration": 8,
    "start_time": "2025-04-03T03:57:16.498Z"
   },
   {
    "duration": 6,
    "start_time": "2025-04-03T03:57:22.656Z"
   }
  ],
  "kernelspec": {
   "display_name": "Python 3 (ipykernel)",
   "language": "python",
   "name": "python3"
  },
  "language_info": {
   "codemirror_mode": {
    "name": "ipython",
    "version": 3
   },
   "file_extension": ".py",
   "mimetype": "text/x-python",
   "name": "python",
   "nbconvert_exporter": "python",
   "pygments_lexer": "ipython3",
   "version": "3.9.19"
  },
  "toc": {
   "base_numbering": 1,
   "nav_menu": {},
   "number_sections": true,
   "sideBar": true,
   "skip_h1_title": true,
   "title_cell": "Table of Contents",
   "title_sidebar": "Contents",
   "toc_cell": false,
   "toc_position": {},
   "toc_section_display": true,
   "toc_window_display": false
  }
 },
 "nbformat": 4,
 "nbformat_minor": 5
}
